{
 "cells": [
  {
   "cell_type": "markdown",
   "metadata": {},
   "source": [
    "# The shape of RTs : Is it a log ? is it an exgaussian ? No it's a generative model\n",
    "\n",
    "__TL;DR (_or_ too long didn't read) summary__ : It seems almost like a \"marronier\" as said in French.\n",
    "in cognitive science that the debate around modeling reaction times (RTs) starts by how to appropriately account for RT distribution before it settles to use generative models. The main reason is that once we stick our fingers in the question of how to fit RTs we end up asking what we are actually measuring.\n",
    "\n",
    "<img src=\"../resources/img/shape-of-rt.png\">"
   ]
  },
  {
   "cell_type": "markdown",
   "metadata": {},
   "source": [
    "# What is the question ?\n",
    "I have seen an increased interest in the question of what distribution fits reaction times ($RT$s) around me. And while for the researcher not specialized in mental chronometry that question might seem trivial, it actually sends you right to a really long, complexe and unfinished journey far from the shire (last film reference I promise). The main reason being that you cannot ask what distribution RTs have without also asking yourself what you are trying to measure and what your research question actually is about.\n",
    "\n",
    "This post is intended to be a speeded walkthrough for the modeling of reaction times. While it is impossible to give a complete description of the field of mental chronometry in one blog post, I wish that this might help scientists engaging in RT data analysis to have some representation on the theoretical ground for RT analysis.\n",
    "\n",
    "### What is the situation? \n",
    "In our statistical world we scientist want to summarize data in an efficient way to understand natural phenomenons.\n",
    "To that end we rely on distributions where we seek to describe the data at hand with the associated parameters and then rely on these parameters to make inferences.\n",
    "\n",
    "\n",
    "For example we want to know how much digits a participant can remember (_i.e._ working memory). Imagine that this individual has a true working memory score but attentional fluctuations yields noise in the measurement. If we were to assume that this attentional fluctuation is distributed normally (participant is equally likely to deploy a low or high attention and most likely to deploy a mid-level attention) we could describe the $j$th sample of working memory score as drawn from a normal distribution with an estimated mean ($\\mu$) and a given standard deviation ($\\sigma$) which I write as follows :\n",
    "\n",
    "$$\n",
    "\\text{WM}_j \\sim \\mathcal{N}(\\mu, \\sigma)\n",
    "$$\n",
    "\n",
    "Now if we wanted to know whether _e.g._ reading vs hearing the digits changed the working memory score, we could write it as follows : \n",
    "\n",
    "$$\n",
    "\\text{WM}_{hearing_j} \\sim \\mathcal{N}(\\mu, \\sigma)\\\\\n",
    "\\text{WM}_{reading_j} \\sim \\mathcal{N}(\\mu + \\beta, \\sigma)\n",
    "$$\n",
    "\n",
    "We here model the working memory as normally distributed with mean $\\mu$ for hearing and mean $\\mu + \\beta$ for reading as would be done using a linear model to test the hypothesis of a difference between both conditions ($H0 : \\beta = 0$).\n",
    "\n",
    "So long we have already made at least four assumptions :\n",
    "1. the measure of retained digits is a good proxy for working memory\n",
    "2. the data is normally distributed\n",
    "3. $\\mu$ is the best estimate of the participants true working memory score\n",
    "4. $\\sigma$ is unaffected by the modality (hearing _vs._ reading) factor\n",
    "\n",
    "<sup> and 5. each trial is _independently and identically distributed_ (_e.g._ attention in trial $n$ does not predict attention in trial $n+1$)\n",
    "\n",
    "    \n",
    "None of these assumption is technical, __they are all theoretical__ as they relate to what you think of the generative model of the behavior.     \n",
    "While in this fictive context of working memory these assumptions might be reasonable there are a lot of situation in cognitive science where those are far from being trivial, that is the case for RTs.\n",
    "    \n",
    "### The case of RTs\n",
    "    \n",
    "   For reaction time, the time happening between the onset of a stimulus and the recording of the response produced by the participant, these assumptions are hard to justify. Let's illustrate it by trying to answer these three questions :\n",
    "1. What is the RT a measure of ?\n",
    "2. What is the distribution of RTs ?\n",
    "3. What is the parameter of that distribution that is relevant for the research question at hand ?"
   ]
  },
  {
   "cell_type": "markdown",
   "metadata": {},
   "source": [
    "## 1. What is the RT a measure of ?\n",
    "\n",
    "There are some situations where researchers in cognitive science are interested in the measure and not an instantiated process as in the WM example above. For example if you're a working on a plane cockpit and want to be sure that, _on average_ users will be faster to react given a certain design, then you will be interested in the mean RT _per se_. But often in cognitive science we use the measure of RTs as a proxy of some cognitive process. For example we could be interested in whether older people are slower to recognize a stimulus than younger participants. In this case, then mean RT might not be what we would like to infer on.\n",
    "\n",
    "### RT as a composite measure\n",
    "\n",
    "In order to react to a stimulus, as already debated in the mid-19th century by von Helmholtz, you necessarily have different steps in the information processing chain.\n",
    "Let's make this easy and assume that we have three stages in the RTs : encoding the stimulus, deciding/identifying the stimulus, executing the response.\n",
    "\n",
    "<img src=\"../resources/img/paths.png\" scale=\"20%\">\n",
    "\n",
    "Now each of these steps likely have different impact on the distribution of RT, _e.g._ delaying the response production by requiring responses with the foot rather than the hand changes the mean RT, however observing a slower mean RT for foot response does not mean that stimulus was identifed slower.\n",
    "\n",
    "This has led mathematical psychologist to suggest better distribution in which we c\n",
    "\n",
    "__How do we access __ we usually do not have access to this stages therefore when we are mapping variation in mean RT to variation in the decision process for example, we are assuming that the other steps were not consistently involved in the change in RT.\n",
    "\n",
    "One way to decipher wether the step of interest was changed would be to have parameters of the distribution that could account for such steps ! What if we connect this with the question on the distribution of RTs ?"
   ]
  },
  {
   "cell_type": "markdown",
   "metadata": {},
   "source": [
    "## 2. What is the distribution of RTs ?\n",
    "\n",
    "It is sad to say but as pointed out bu Noorani and Carpenter in 2013, RTs do not seem to obey any mathematical functions defining usual stochastic processes.\n",
    "\n",
    "Lets take a look at the distribution of the RTs from a participant I tested during my PhD thesis (for the data see the [github repository](https://github.com/GWeindel/DecomposingRT))\n",
    "\n",
    "<img src=\"../resources/img/rt_dist.png\" scale=\"20%\">\n",
    "\n"
   ]
  },
  {
   "cell_type": "markdown",
   "metadata": {},
   "source": [
    "What we observe is two classical features that researchers measuring RTs usually observe : RT distributions are asymetric, with shorter RTs closer to the mean than slower RTs. Another feature is that the mean of RT often increases with the standard deviation (respectively $m$ and $s$ in panel a) as evident from panel b.\n",
    "\n",
    "Both features are known and documented for almost a century already. The observation that mean increases with standard deviation has already been reported by Fessard, Fessard, Kowarski, Laugier, and Monnin in 1936. These two features jointly show both that __using a normal distribution to model individual RTs will not capture the data and that it is not appropriate to expect a change in the mean RT only__.\n",
    "\n",
    "Now if the problem is only about the quality of the fit we could find a better alternative than a normal distribution."
   ]
  },
  {
   "cell_type": "markdown",
   "metadata": {},
   "source": [
    "###  A matter of goodness-of-fit "
   ]
  },
  {
   "cell_type": "markdown",
   "metadata": {},
   "source": [
    "The litterature on fitting different distribution to RTs is surprisingly large. The [post](https://lindeloev.github.io/shiny-rt/) by Jonas Kristoffer Lindeløv gives a nice (interactive) overview of different distributions applied to real observed $RT$s.\n",
    "\n",
    "As can be seen on that post a lot of distributions can fit the RTs data sufficiently well but none will be a good fit for all tasks and participants except perhaps the ex-Gaussian that I am going to describe a bit deeper to illustrtate the problem of \"atheoretical\" distributions before moving to generative models.\n",
    "\n",
    "\n",
    "#### The Ex-Gaussian\n",
    "Back in the mid-20th century, Christie and Luce, assumed that the distribution of $RT$s could be accounted by the convolution of an exponential and a normal distribution (but ex-Gaussian sounds better than ex-normal I guess). Their intuition was that two separated processes were contributing to RTs, one which distribution is normal and one which distribution is exponential. This gives the following likelihood function : \n",
    "\n",
    " \\begin{equation}\n",
    "     f{(x | \\mu, \\sigma, \\tau)} = \\frac{1}{\\tau\\sqrt{2\\pi}}\\exp{\\frac{\\sigma^2}{2\\tau^2}-\\frac{x - \\mu}{\\tau}} \\cdot\\int_{-\\infty}^{[(x-\\mu)/\\sigma]-(\\sigma/\\tau)}\\exp{-\\frac{y^2}{2}dy}\n",
    "     \\label{exgauss}\n",
    " \\end{equation}\n",
    "\n",
    "This formula then describes RTs distribution based on three parameters $\\mu$, $\\sigma$ and $\\tau$. All these parameters describe features of the data, see for example this figure from Matzke and Wagenmakers (2008) : \n",
    "<img src=\"../resources/img/exgauss.png\" scale=\"20%\">\n",
    "\n",
    "Increasing $\\mu$, the mean of the gaussian process, shifts the distribution, while increasing $\\sigma$ increases the spread of RTs around $\\mu$ and increasing $\\tau$ increases the skew in the data. We therefore have a distribution geared to account for RTs and that is, in most cases, able to fit the data pretty well.\n",
    "\n",
    "\n",
    "#### From parameters to processes\n",
    "Now that we have suggested what RTs are measuring and choosen an appropriate distribution what do we do ?\n",
    "\n",
    "_E.g._ What parameter will be changed by age ? $\\mu$ ? $\\sigma$ ? $\\tau$ ?\n",
    "\n",
    "Now this example illustrates the problem, while in the working memory example of the introduction the modeling of the effect on the mean was straigthforward it is no longer true for RTs. We could attribute explicitely a stage of RT to one parameter as Christie and Luce suggested initially. The authors thought that the exponential part of the distribution is linked to the decision time but other have quickly suggested that this part is linked to movement times (McGill, 1963). Since then no evidence has been found towards the correct interpretation of the parameters (see the paper by Matzke and Wagenmakers, 2008).\n",
    "\n",
    "One answer could be \"let's just look for the effect on each parameter\", but then what do you publish as a result ?  Aging increases the $\\tau$ of the RTs modeled with the ex-gaussian ? \n",
    "\n",
    "\n",
    "Now my take is the following : __if you already made the way of asking what distribution can fit RTs you cannot overlook the assumptions and questions raised by the choice of a distribution__\n",
    "\n",
    "Therefore if the choice of a distribution is a theoretical choice I suggest that you should "
   ]
  },
  {
   "cell_type": "code",
   "execution_count": null,
   "metadata": {},
   "outputs": [],
   "source": [
    "sim = 1000\n",
    "for(i in 1:sim){\n",
    "    samples = \n",
    "}"
   ]
  },
  {
   "cell_type": "code",
   "execution_count": 13,
   "metadata": {},
   "outputs": [
    {
     "ename": "ERROR",
     "evalue": "Error in parse(text = x, srcfile = src): <text>:1:35: unexpected numeric constant\n1: lapply(rlnorm(100, 6, 1), mean(i) 1\n                                      ^\n",
     "output_type": "error",
     "traceback": [
      "Error in parse(text = x, srcfile = src): <text>:1:35: unexpected numeric constant\n1: lapply(rlnorm(100, 6, 1), mean(i) 1\n                                      ^\nTraceback:\n"
     ]
    }
   ],
   "source": [
    "lapply(rlnorm(100, 6, 1), mean(i) 1:sim(i))"
   ]
  },
  {
   "cell_type": "markdown",
   "metadata": {},
   "source": [
    "The distributions of $RT$s has generated a lot of theories early on. \n",
    "\n",
    "- The (shifted)log-normal\n",
    "\n",
    "- The inverse-normal (Carpenter)\n",
    "\n",
    "- The ex-Gaussian (because the ex-normal might not refer to what you intend)) \n",
    "is among the most \"theory-free\" distribution advocated. But interestingly NDT vs DT changed. \n",
    "\n",
    "- The shifted wald\n",
    "\n",
    "- Process models\n"
   ]
  },
  {
   "cell_type": "markdown",
   "metadata": {},
   "source": [
    "## It depends on the data and the question"
   ]
  },
  {
   "cell_type": "markdown",
   "metadata": {},
   "source": [
    "### The data \n",
    "\n",
    "1 dimensional data : If the data are simple reaction time then\n",
    "2 dimensional data : decision/conflict tasks\n",
    "\n",
    "Short vs long RTs (Lerche)\n",
    "\n"
   ]
  },
  {
   "cell_type": "markdown",
   "metadata": {},
   "source": [
    "### What is the question ?"
   ]
  },
  {
   "cell_type": "markdown",
   "metadata": {},
   "source": [
    "- "
   ]
  },
  {
   "cell_type": "code",
   "execution_count": 2,
   "metadata": {},
   "outputs": [
    {
     "name": "stderr",
     "output_type": "stream",
     "text": [
      "also installing the dependencies ‘survival’, ‘expm’, ‘evd’, ‘msm’, ‘gsl’\n",
      "\n",
      "\n",
      "Updating HTML index of packages in '.Library'\n",
      "\n",
      "Making 'packages.html' ...\n",
      " done\n",
      "\n"
     ]
    }
   ],
   "source": [
    "install.packages(\"rtdists\")"
   ]
  },
  {
   "cell_type": "markdown",
   "metadata": {},
   "source": [
    "My take : \n",
    "- If the question is about an effect on a latent cognitive process there is no benefit from switching to a more appropriate law of distributions as long as we do not validate the link between parameter and cognitive process\n",
    "- If the question is about the description of the RTs then we should stick with whatever describes RT best (e.g. exgaussian)\n",
    "- "
   ]
  }
 ],
 "metadata": {
  "kernelspec": {
   "display_name": "R",
   "language": "R",
   "name": "ir"
  },
  "language_info": {
   "codemirror_mode": "r",
   "file_extension": ".r",
   "mimetype": "text/x-r-source",
   "name": "R",
   "pygments_lexer": "r",
   "version": "4.0.3"
  }
 },
 "nbformat": 4,
 "nbformat_minor": 5
}
